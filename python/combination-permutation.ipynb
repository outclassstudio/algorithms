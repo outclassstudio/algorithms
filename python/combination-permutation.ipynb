{
 "cells": [
  {
   "attachments": {},
   "cell_type": "markdown",
   "metadata": {},
   "source": [
    "### <span style='color: #fcba03'>순열/조합 구현</span>"
   ]
  },
  {
   "cell_type": "code",
   "execution_count": 12,
   "metadata": {},
   "outputs": [
    {
     "name": "stdout",
     "output_type": "stream",
     "text": [
      "[[1, 2, 3], [1, 2, 4], [1, 3, 4], [2, 3, 4]]\n"
     ]
    }
   ],
   "source": [
    "# js에서 학습한 패턴을 py로 옮긴 로직\n",
    "def solution(array, n):\n",
    "  result = []\n",
    "\n",
    "  if n == 1:\n",
    "    tmp = []\n",
    "    for el in array:\n",
    "      tmp.append([el])\n",
    "    return tmp\n",
    "\n",
    "  for i in range(len(array)):\n",
    "    rest = array[i+1:]\n",
    "    combinations = solution(rest, n-1)\n",
    "    attached = []\n",
    "    for el in combinations:\n",
    "      attached.append([array[i], *el])\n",
    "    result.extend(attached)\n",
    "\n",
    "  return result\n",
    "\n",
    "print(solution([1,2,3,4], 3))"
   ]
  },
  {
   "cell_type": "code",
   "execution_count": 16,
   "metadata": {},
   "outputs": [
    {
     "name": "stdout",
     "output_type": "stream",
     "text": [
      "[[1, 2, 3], [1, 2, 4], [1, 3, 4], [2, 3, 4]]\n"
     ]
    }
   ],
   "source": [
    "import itertools\n",
    "\n",
    "print(list(map(list, itertools.combinations([1,2,3,4], 3))))"
   ]
  }
 ],
 "metadata": {
  "kernelspec": {
   "display_name": "Python 3",
   "language": "python",
   "name": "python3"
  },
  "language_info": {
   "codemirror_mode": {
    "name": "ipython",
    "version": 3
   },
   "file_extension": ".py",
   "mimetype": "text/x-python",
   "name": "python",
   "nbconvert_exporter": "python",
   "pygments_lexer": "ipython3",
   "version": "3.10.2"
  },
  "orig_nbformat": 4,
  "vscode": {
   "interpreter": {
    "hash": "369f2c481f4da34e4445cda3fffd2e751bd1c4d706f27375911949ba6bb62e1c"
   }
  }
 },
 "nbformat": 4,
 "nbformat_minor": 2
}
