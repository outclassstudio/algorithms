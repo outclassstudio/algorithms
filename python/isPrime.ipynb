{
 "cells": [
  {
   "attachments": {},
   "cell_type": "markdown",
   "metadata": {},
   "source": [
    "### <span style='color: #fcba03'>소수판별</span>\n",
    "- 1과 자기 자신 외의 약수가 존재하면 소수가 아님 : 약수의 존재여부만 확인하면 됨\n",
    "- 약수의 특성상 제곱근을 이루는 수를 중심으로 대칭을 이루기 때문에, 전체를 순회할 필요없이 제곱근까지만 확인하면 판별이 가능하다.\n",
    "- 약수 확인은 2부터 시작하면 된다."
   ]
  },
  {
   "cell_type": "code",
   "execution_count": 10,
   "metadata": {},
   "outputs": [
    {
     "name": "stdout",
     "output_type": "stream",
     "text": [
      "True\n",
      "False\n"
     ]
    }
   ],
   "source": [
    "import math\n",
    "\n",
    "# 소수 판별 함수\n",
    "def is_prime_number(x):\n",
    "  for i in range(2, int(math.sqrt(x) + 1)):\n",
    "    if x % i == 0:\n",
    "      return False\n",
    "  return True\n",
    "\n",
    "print(is_prime_number(127))\n",
    "print(is_prime_number(1729))"
   ]
  },
  {
   "attachments": {},
   "cell_type": "markdown",
   "metadata": {},
   "source": [
    "### <span style='color: #fcba03'>에라토스테네스의 체</span>\n",
    "\n",
    "범위에 대한 소수 판별에 유리하다. 하는 방법은 다음과 같다.\n",
    "\n",
    "1. 2부터 N까지의 모든 자연수를 나열한다.\n",
    "2. 남은 수 중에서 아직 처리하지 않은 가장 작은 수 i를 찾는다.\n",
    "3. 남은 수 중에서 i의 배수를 모두 제거한다.(i는 제거하지 않는다.)\n",
    "4. 더 이상 반복할 수 없을 때까지 2번과 3번의 과정을 반복한다.\n",
    "\n",
    "※ 숫자가 클 경우 메모리가 부족해짛 수 있다.(N이 1,000,000 이내로 주어지는 경우 활용) <br>\n",
    "※ 에라토스테네스의 체 알고리즘의 시간 복잡도는 O(NloglogN)으로 사실상 선형 시간에 동작할 정도로 빠르다.<br>하지만, N크기 만큼의 메모리를 저장하고 (기억해야하므로 주의해야한다.)"
   ]
  },
  {
   "cell_type": "code",
   "execution_count": 14,
   "metadata": {},
   "outputs": [
    {
     "name": "stdout",
     "output_type": "stream",
     "text": [
      "[2, 3, 5, 7, 11, 13, 17, 19, 23, 29, 31, 37, 41, 43, 47, 53, 59, 61, 67, 71, 73, 79, 83, 89, 97]\n"
     ]
    }
   ],
   "source": [
    "import math\n",
    "\n",
    "# 소수 판별 함수(에라토스테네스의 체)\n",
    "def is_prime_number(n):\n",
    "    array = [True for i in range(n+1)]\n",
    "\n",
    "    for i in range(2, int(math.sqrt(n) + 1)):\n",
    "        if array[i] == True:\n",
    "            j = 2\n",
    "            while i * j <= n:\n",
    "                array[i * j] = False\n",
    "                j += 1\n",
    "\n",
    "    return [i for i in range(2, len(array)) if array[i]]\n",
    "\n",
    "print(is_prime_number(100))"
   ]
  }
 ],
 "metadata": {
  "kernelspec": {
   "display_name": "Python 3",
   "language": "python",
   "name": "python3"
  },
  "language_info": {
   "codemirror_mode": {
    "name": "ipython",
    "version": 3
   },
   "file_extension": ".py",
   "mimetype": "text/x-python",
   "name": "python",
   "nbconvert_exporter": "python",
   "pygments_lexer": "ipython3",
   "version": "3.10.2 (tags/v3.10.2:a58ebcc, Jan 17 2022, 14:12:15) [MSC v.1929 64 bit (AMD64)]"
  },
  "orig_nbformat": 4,
  "vscode": {
   "interpreter": {
    "hash": "369f2c481f4da34e4445cda3fffd2e751bd1c4d706f27375911949ba6bb62e1c"
   }
  }
 },
 "nbformat": 4,
 "nbformat_minor": 2
}
